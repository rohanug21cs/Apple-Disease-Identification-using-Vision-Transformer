{
 "cells": [
  {
   "cell_type": "markdown",
   "metadata": {
    "isInteractiveWindowMessageCell": true
   },
   "source": [
    "Connected to Python 3.11.1"
   ]
  },
  {
   "cell_type": "code",
   "execution_count": 1,
   "metadata": {},
   "outputs": [],
   "source": [
    "import tensorflow as tf\n",
    "import numpy as np\n",
    "import pandas as pd\n",
    "from tensorflow.keras.preprocessing.image import ImageDataGenerator, load_img, img_to_array\n",
    "import os\n",
    "from sklearn.model_selection import train_test_split"
   ]
  },
  {
   "cell_type": "code",
   "execution_count": 2,
   "metadata": {},
   "outputs": [],
   "source": [
    "class PatchEncoder(tf.keras.layers.Layer):\n",
    "    def __init__(self, no_of_patches, hidden_size):\n",
    "        super(PatchEncoder, self).__init__(name= \"patch_encoder\")\n",
    "        self.no_of_patches=no_of_patches\n",
    "        self.linear_projection= tf.keras.layers.Dense(hidden_size)\n",
    "        self.positonal_embedding= tf.keras.layers.Embedding(no_of_patches,hidden_size)\n",
    "    \n",
    "    def call(self, img):\n",
    "        patches=tf.image.extract_patches(images=img,\n",
    "                                 sizes=[1,16,16,1],\n",
    "                                 strides=[1,16,16,1],\n",
    "                                 rates=[1,1,1,1],\n",
    "                                 padding='VALID')\n",
    "                                 \n",
    "        patches=tf.reshape(patches,(tf.shape(patches)[0],-1,patches.shape[-1]))\n",
    "        embedding_input=tf.range(0,self.no_of_patches,1)\n",
    "        ans=self.linear_projection(patches)+self.positonal_embedding(embedding_input)\n",
    "        return ans"
   ]
  },
  {
   "cell_type": "code",
   "execution_count": 3,
   "metadata": {},
   "outputs": [],
   "source": [
    "class TransformerEncoder(tf.keras.layers.Layer):\n",
    "    def __init__(self, no_of_heads, hidden_size):\n",
    "        super(TransformerEncoder, self).__init__(name= \"transformer_encoder\")\n",
    "        self.layer_norm= tf.keras.layers.LayerNormalization()\n",
    "        self.multi_head_attention=tf.keras.layers.MultiHeadAttention(no_of_heads,hidden_size)\n",
    "        self.denselayer=tf.keras.layers.Dense(hidden_size, activation='gelu')\n",
    "    \n",
    "    def call(self, img):\n",
    "        x_1=self.layer_norm(img)\n",
    "        x_1=self.multi_head_attention(x_1,x_1)\n",
    "        x_1=tf.keras.layers.Add()([x_1,img])\n",
    "\n",
    "        x_2=self.layer_norm(x_1)\n",
    "        x_2=self.denselayer(x_2)\n",
    "        ans=self.denselayer(x_2)\n",
    "        ans=tf.keras.layers.Add()([ans,x_1])\n",
    "\n",
    "        return ans"
   ]
  },
  {
   "cell_type": "code",
   "execution_count": 4,
   "metadata": {},
   "outputs": [],
   "source": [
    "class VisT(tf.keras.Model):\n",
    "    def __init__(self, no_of_heads, hidden_size, no_of_patches, no_of_layers,no_of_dense_units):\n",
    "        super(VisT,self).__init__(name= 'vision_transformer')\n",
    "        self.no_of_layers=no_of_layers\n",
    "        self.patch_encoder=PatchEncoder(no_of_patches,hidden_size)\n",
    "        self.transformer_encoder=[TransformerEncoder(no_of_heads, hidden_size) for _ in range(no_of_layers)]\n",
    "        self.densel=tf.keras.layers.Dense(no_of_dense_units, \"gelu\")\n",
    "        self.densel2=tf.keras.layers.Dense(64, \"gelu\")\n",
    "        self.densel3=tf.keras.layers.Dense(32, \"gelu\")\n",
    "        self.denselO=tf.keras.layers.Dense(4, \"softmax\")\n",
    "    \n",
    "    def call(self, data, training=True):\n",
    "        if isinstance(data, tuple):\n",
    "            img, _ = data  # Extract only the images from the generator output\n",
    "        else:\n",
    "            img = data\n",
    "\n",
    "        # Ensure the correct shape of the input tensor\n",
    "        img = tf.image.resize(img, (256, 256))  # Resize the image to match the expected size\n",
    "        img = tf.reshape(img, (tf.shape(img)[0], 256, 256, 3))  # Explicitly reshape to (batch_size, height, width, channels)\n",
    "\n",
    "        inp = self.patch_encoder(img)\n",
    "\n",
    "        for i in range(self.no_of_layers):\n",
    "            inp = self.transformer_encoder[i](inp)\n",
    "\n",
    "        inp = tf.keras.layers.Flatten()(inp)\n",
    "        inp = self.densel(inp)\n",
    "        inp = self.densel2(inp)\n",
    "        inp = self.densel3(inp)\n",
    "        return self.denselO(inp)"
   ]
  },
  {
   "cell_type": "code",
   "execution_count": 5,
   "metadata": {},
   "outputs": [],
   "source": [
    "# Path of the file.\n",
    "path = 'E:/semester 6/ModelLeaf/M5/Disease_Photos'\n",
    "size = [256, 256]\n",
    "classes = ['Alternaria apple', 'Apple mosaic virus', 'Apple_Powdery_Mildew', 'Apple Apple Scab']"
   ]
  },
  {
   "cell_type": "code",
   "execution_count": 6,
   "metadata": {},
   "outputs": [],
   "source": [
    "# Loading all images\n",
    "all_images = []\n",
    "all_labels = []\n",
    "\n",
    "for class_index, class_name in enumerate(classes):\n",
    "    class_path = os.path.join(path, class_name)\n",
    "    for filename in os.listdir(class_path):\n",
    "        img_path = os.path.join(class_path, filename)\n",
    "        all_images.append(img_path)\n",
    "        all_labels.append(class_index)"
   ]
  },
  {
   "cell_type": "code",
   "execution_count": 7,
   "metadata": {},
   "outputs": [],
   "source": [
    "# Splitting into training and testing sets\n",
    "train_images, test_images, train_labels, test_labels = train_test_split(\n",
    "    all_images, all_labels, test_size=0.5, random_state=12\n",
    ")"
   ]
  },
  {
   "cell_type": "code",
   "execution_count": 8,
   "metadata": {},
   "outputs": [],
   "source": [
    "# Augmentation with varying parameters\n",
    "datagen_training_augmentation = ImageDataGenerator(\n",
    "    shear_range=0.2,\n",
    "    horizontal_flip=True,\n",
    "    rotation_range=60\n",
    ")"
   ]
  },
  {
   "cell_type": "code",
   "execution_count": 9,
   "metadata": {},
   "outputs": [
    {
     "name": "stdout",
     "output_type": "stream",
     "text": [
      "W 0\n",
      "W 1\n",
      "W 2\n",
      "W 3\n",
      "W 4\n"
     ]
    }
   ],
   "source": [
    "# Applying augmentation to increase the training dataset size to 5x.\n",
    "augmented_images = []\n",
    "augmented_labels = []\n",
    "\n",
    "for i in range(5):  \n",
    "    for img_path, label in zip(train_images, train_labels):\n",
    "        rotation_angle = np.random.uniform(-60, 60)  \n",
    "        img = load_img(img_path, target_size=size)\n",
    "        img_array = img_to_array(img)\n",
    "        img_array = datagen_training_augmentation.apply_transform(img_array, {'theta': rotation_angle})\n",
    "        augmented_images.append(img_array)\n",
    "        augmented_labels.append(label)\n",
    "    print(\"W\",i)\n"
   ]
  },
  {
   "cell_type": "code",
   "execution_count": 10,
   "metadata": {},
   "outputs": [],
   "source": [
    "train_images1 = np.array(augmented_images[0:int(len(augmented_images)*0.35)])\n",
    "train_labels1 = np.array(augmented_labels[0:int(len(augmented_images)*0.35)])\n",
    "augmented_images=augmented_images[int(len(augmented_images)*0.35):]\n",
    "augmented_labels=augmented_labels[int(len(augmented_labels)*0.35):]\n",
    "augmented_images = np.array(augmented_images)\n",
    "augmented_labels = np.array(augmented_labels)"
   ]
  },
  {
   "cell_type": "code",
   "execution_count": 11,
   "metadata": {},
   "outputs": [],
   "source": [
    "# Splitting the augmented dataset into training and validation sets\n",
    "train_images2, valid_images, train_labels2, valid_labels = train_test_split(\n",
    "    augmented_images, augmented_labels, test_size=0.47, random_state=42\n",
    ")\n"
   ]
  },
  {
   "cell_type": "code",
   "execution_count": 12,
   "metadata": {},
   "outputs": [],
   "source": [
    "del augmented_images\n",
    "del augmented_labels"
   ]
  },
  {
   "cell_type": "code",
   "execution_count": 13,
   "metadata": {},
   "outputs": [],
   "source": [
    "valid_images1, valid_images2, valid_labels1, valid_labels2=train_test_split(\n",
    "    valid_images, valid_labels, test_size=0.5, random_state=42\n",
    ")"
   ]
  },
  {
   "cell_type": "code",
   "execution_count": 42,
   "metadata": {},
   "outputs": [],
   "source": [
    "# Initializing VisT model\n",
    "vit = VisT(2, 256, 256, 2, 64)\n",
    "vit.compile(optimizer=\"Adam\", loss=tf.keras.losses.SparseCategoricalCrossentropy(), metrics=[\"accuracy\"])"
   ]
  },
  {
   "cell_type": "code",
   "execution_count": 44,
   "metadata": {},
   "outputs": [
    {
     "name": "stdout",
     "output_type": "stream",
     "text": [
      "Epoch 1 / 10 ------->\n",
      "130/130 [==============================] - 179s 1s/step - loss: 161.2829 - accuracy: 0.8731 - val_loss: 6.2706 - val_accuracy: 0.9509\n",
      "Epoch 2 / 10 ------->\n",
      "128/128 [==============================] - 183s 1s/step - loss: 10.6703 - accuracy: 0.9379 - val_loss: 4.4137 - val_accuracy: 0.9559\n",
      "Epoch 3 / 10 ------->\n",
      "130/130 [==============================] - 171s 1s/step - loss: 5.5066 - accuracy: 0.9588 - val_loss: 1.7872 - val_accuracy: 0.9746\n",
      "Epoch 4 / 10 ------->\n",
      "128/128 [==============================] - 170s 1s/step - loss: 2.3701 - accuracy: 0.9655 - val_loss: 6.3251 - val_accuracy: 0.9454\n",
      "Epoch 5 / 10 ------->\n",
      "130/130 [==============================] - 172s 1s/step - loss: 1.4145 - accuracy: 0.9766 - val_loss: 4.6714 - val_accuracy: 0.9459\n",
      "Epoch 6 / 10 ------->\n",
      "128/128 [==============================] - 164s 1s/step - loss: 2.5611 - accuracy: 0.9655 - val_loss: 4.1256 - val_accuracy: 0.9515\n",
      "Epoch 7 / 10 ------->\n",
      "130/130 [==============================] - 154s 1s/step - loss: 1.1945 - accuracy: 0.9750 - val_loss: 3.6835 - val_accuracy: 0.9586\n",
      "Epoch 8 / 10 ------->\n",
      "128/128 [==============================] - 167s 1s/step - loss: 0.8853 - accuracy: 0.9807 - val_loss: 1.8438 - val_accuracy: 0.9636\n",
      "Epoch 9 / 10 ------->\n",
      "130/130 [==============================] - 171s 1s/step - loss: 0.9851 - accuracy: 0.9786 - val_loss: 1.9037 - val_accuracy: 0.9724\n",
      "Epoch 10 / 10 ------->\n",
      "128/128 [==============================] - 158s 1s/step - loss: 0.2328 - accuracy: 0.9922 - val_loss: 1.6999 - val_accuracy: 0.9680\n"
     ]
    }
   ],
   "source": [
    "# Training the model\n",
    "epochs=10\n",
    "trainig_history=[]\n",
    "for epoch in range(epochs):\n",
    "    print(\"Epoch\",epoch+1,\"/\",epochs,\"------->\")\n",
    "    if epoch % 2 == 0:\n",
    "        # Using the first half of the dataset in even epochs\n",
    "        data = train_images1\n",
    "        labels = train_labels1\n",
    "        vdata = valid_images1\n",
    "        vlabel = valid_labels1\n",
    "    else:\n",
    "        # Using the second half of the dataset in odd epochs\n",
    "        data = train_images2\n",
    "        labels = train_labels2\n",
    "        vdata = valid_images2\n",
    "        vlabel = valid_labels2\n",
    "\n",
    "    # Training the model using the selected half of the dataset\n",
    "    h=vit.fit(data, labels, batch_size=32, epochs=1, validation_data=(vdata, vlabel))\n",
    "    trainig_history.append(h)\n",
    "#h=vit.fit(train_images, train_labels, epochs=10, validation_data=(valid_images, valid_labels),batch_size=16)"
   ]
  },
  {
   "cell_type": "code",
   "execution_count": 45,
   "metadata": {},
   "outputs": [
    {
     "data": {
      "image/png": "[encoded data removed]",
      "text/plain": [
       "<Figure size 640x480 with 1 Axes>"
      ]
     },
     "metadata": {},
     "output_type": "display_data"
    }
   ],
   "source": [
    "import matplotlib.pyplot as plt\n",
    "accu=[x.history['accuracy'] for x in trainig_history]\n",
    "val_accu=[x.history['val_accuracy'] for x in trainig_history]\n",
    "plt.plot(accu)\n",
    "plt.plot(val_accu)\n",
    "plt.title('Model Accuracy')\n",
    "plt.ylabel('Accuracy')\n",
    "plt.xlabel('Epoch')\n",
    "plt.legend(['Train','Validation'],loc='upper left')\n",
    "plt.ylim(0,1.5)\n",
    "plt.show()"
   ]
  },
  {
   "cell_type": "code",
   "execution_count": 46,
   "metadata": {},
   "outputs": [
    {
     "data": {
      "image/png": "[encoded data removed]",
      "text/plain": [
       "<Figure size 640x480 with 1 Axes>"
      ]
     },
     "metadata": {},
     "output_type": "display_data"
    }
   ],
   "source": [
    "loss=[x.history['loss'] for x in trainig_history]\n",
    "val_loss=[x.history['val_loss'] for x in trainig_history]\n",
    "plt.plot(loss)\n",
    "plt.plot(val_loss)\n",
    "plt.title('Model Loss')\n",
    "plt.ylabel('Loss')\n",
    "plt.xlabel('Epoch')\n",
    "plt.legend(['Train','Validation'],loc='upper left')\n",
    "plt.show()"
   ]
  },
  {
   "cell_type": "code",
   "execution_count": 47,
   "metadata": {},
   "outputs": [
    {
     "name": "stdout",
     "output_type": "stream",
     "text": [
      "75/75 [==============================] - 27s 364ms/step - loss: 2.3711 - accuracy: 0.9629\n"
     ]
    },
    {
     "data": {
      "text/plain": [
       "[2.3711469173431396, 0.962931752204895]"
      ]
     },
     "execution_count": 47,
     "metadata": {},
     "output_type": "execute_result"
    }
   ],
   "source": [
    "processed_test_images = []\n",
    "for img_path in test_images:\n",
    "    img = load_img(img_path, target_size=size)\n",
    "    img_array = img_to_array(img)\n",
    "    processed_test_images.append(img_array)\n",
    "\n",
    "processed_test_images = np.array(processed_test_images)\n",
    "vit.evaluate(processed_test_images, np.array(test_labels))"
   ]
  },
  {
   "cell_type": "code",
   "execution_count": 48,
   "metadata": {},
   "outputs": [
    {
     "name": "stdout",
     "output_type": "stream",
     "text": [
      "75/75 [==============================] - 28s 370ms/step - loss: 2.3711 - accuracy: 0.9629\n"
     ]
    },
    {
     "data": {
      "text/plain": [
       "[2.3711469173431396, 0.962931752204895]"
      ]
     },
     "execution_count": 48,
     "metadata": {},
     "output_type": "execute_result"
    }
   ],
   "source": [
    "processed_test_images = []\n",
    "for img_path in test_images:\n",
    "    img = load_img(img_path, target_size=size)\n",
    "    img_array = img_to_array(img)\n",
    "    processed_test_images.append(img_array)\n",
    "\n",
    "processed_test_images = np.array(processed_test_images)\n",
    "vit.evaluate(processed_test_images, np.array(test_labels))"
   ]
  },
  {
   "cell_type": "code",
   "execution_count": 49,
   "metadata": {},
   "outputs": [
    {
     "name": "stdout",
     "output_type": "stream",
     "text": [
      "75/75 [==============================] - 29s 377ms/step\n",
      "                      precision    recall  f1-score   support\n",
      "\n",
      "    Alternaria apple       0.77      0.65      0.71       139\n",
      "  Apple mosaic virus       0.86      0.77      0.81       108\n",
      "Apple_Powdery_Mildew       0.64      0.84      0.73        95\n",
      "    Apple Apple Scab       1.00      1.00      1.00      2032\n",
      "\n",
      "            accuracy                           0.96      2374\n",
      "           macro avg       0.82      0.82      0.81      2374\n",
      "        weighted avg       0.96      0.96      0.96      2374\n",
      "\n"
     ]
    }
   ],
   "source": [
    "from sklearn.metrics import confusion_matrix, accuracy_score\n",
    "import seaborn as sns\n",
    "from sklearn.metrics import classification_report\n",
    "\n",
    "processed_test_images = np.array(processed_test_images)\n",
    "predictions = np.argmax(vit.predict(processed_test_images), axis=1)\n",
    "\n",
    "# Display classification report\n",
    "class_report = classification_report(test_labels, predictions, target_names=classes)\n",
    "print(class_report)"
   ]
  },
  {
   "cell_type": "code",
   "execution_count": 50,
   "metadata": {},
   "outputs": [
    {
     "name": "stdout",
     "output_type": "stream",
     "text": [
      "Confusion Matrix:\n",
      "[[  91    8   37    3]\n",
      " [  17   83    8    0]\n",
      " [  10    5   80    0]\n",
      " [   0    0    0 2032]]\n",
      "Accuracy for class Alternaria apple: 91.91%\n",
      "Accuracy for class Apple mosaic virus: 95.79%\n",
      "Accuracy for class Apple_Powdery_Mildew: 97.47%\n",
      "Accuracy for class Apple Apple Scab: 100.00%\n",
      "\n",
      "Overall Accuracy: 96.29%\n"
     ]
    }
   ],
   "source": [
    "conf_matrix = confusion_matrix(test_labels, predictions)\n",
    "print(\"Confusion Matrix:\")\n",
    "print(conf_matrix)\n",
    "\n",
    "# Calculate class-wise accuracy\n",
    "class_wise_accuracy = {}\n",
    "for i in range(len(classes)):\n",
    "    class_accuracy =  np.sum(conf_matrix[i, :]) - conf_matrix[i, i]\n",
    "    class_accuracy= 1 - (class_accuracy/np.sum(conf_matrix[:, :]))*4\n",
    "    class_wise_accuracy[classes[i]] = class_accuracy\n",
    "    print(f\"Accuracy for class {classes[i]}: {class_accuracy:.2%}\")\n",
    "\n",
    "# Overall accuracy\n",
    "overall_accuracy = accuracy_score(test_labels, predictions)\n",
    "print(f\"\\nOverall Accuracy: {overall_accuracy:.2%}\")"
   ]
  }
 ],
 "metadata": {
  "kernelspec": {
   "display_name": "Python 3",
   "language": "python",
   "name": "python3"
  },
  "language_info": {
   "codemirror_mode": {
    "name": "ipython",
    "version": 3
   },
   "file_extension": ".py",
   "mimetype": "text/x-python",
   "name": "python",
   "nbconvert_exporter": "python",
   "pygments_lexer": "ipython3",
   "version": "3.11.1"
  }
 },
 "nbformat": 4,
 "nbformat_minor": 2
}
